{
 "cells": [
  {
   "cell_type": "code",
   "execution_count": 22,
   "id": "4bf25c67-0af9-41f1-867d-a46fc6f83f9b",
   "metadata": {
    "scrolled": false
   },
   "outputs": [],
   "source": [
    "import numpy as np\n",
    "import matplotlib.pyplot as plt\n",
    "\n",
    "def generate_linear(n=100):\n",
    "    pts = np.random.uniform(0, 1, (n, 2))\n",
    "    inputs = []\n",
    "    labels = []\n",
    "    for pt in pts:\n",
    "        inputs.append([pt[0], pt[1]])\n",
    "        distance = (pt[0] - pt[1]) / 1.414\n",
    "        if pt[0] > pt[1]:\n",
    "            labels.append(0)\n",
    "        else:\n",
    "            labels.append(1)\n",
    "    return np.array(inputs), np.array(labels).reshape(n, 1)\n",
    "    \n",
    "def generate_XOR_easy():\n",
    "    inputs = []\n",
    "    labels = []\n",
    "    for i in range(11):\n",
    "        inputs.append([0.1 * i, 0.1 * i])\n",
    "        labels.append(0)\n",
    "        if 0.1 * i == 0.5:\n",
    "            continue\n",
    "        inputs.append([0.1 * i, 1 - 0.1 * i])\n",
    "        labels.append(1)\n",
    "    return np.array(inputs), np.array(labels).reshape(21, 1)\n",
    "\n",
    "def show_result(x, y, pred_y):\n",
    "    plt.subplot(1, 2, 1)\n",
    "    plt.title('Ground Truth', fontsize = 18)\n",
    "    for i in range(x.shape[0]):\n",
    "        if y[i] == 0:\n",
    "            plt.plot(x[i][0], x[i][1], 'ro')\n",
    "        else:\n",
    "            plt.plot(x[i][0], x[i][1], 'bo')\n",
    "            \n",
    "    plt.subplot(1, 2, 2)\n",
    "    plt.title('Predict Result', fontsize = 18)\n",
    "    for i in range(x.shape[0]):\n",
    "        if pred_y[i] == 0:\n",
    "            plt.plot(x[i][0], x[i][1], 'ro')\n",
    "        else:\n",
    "            plt.plot(x[i][0], x[i][1], 'bo')\n",
    "    plt.show()\n",
    "    \n",
    "def sigmoid(x):\n",
    "    return 1.0 / (1.0 + np.exp(-x))\n",
    "\n",
    "def derivative_sigmoid(x):\n",
    "    return np.multiply(x, 1.0 - x)\n",
    "\n",
    "def ReLU(x):\n",
    "    return np.where(x > 0, x, 0)\n",
    "\n",
    "def derivative_ReLU(x):\n",
    "    return np.where(x > 0, 1, 0)\n",
    "\n",
    "def MSE(y, y_hat):\n",
    "    return np.sum((y - y_hat) ** 2) / y.shape[0]"
   ]
  },
  {
   "cell_type": "code",
   "execution_count": 23,
   "id": "5027e8bb-0800-44b2-b242-1769a58e21c3",
   "metadata": {},
   "outputs": [],
   "source": [
    "class layer:\n",
    "    def __init__(self,input_size,output_size, activate = \"none\"):\n",
    "        self.input_size = input_size\n",
    "        self.output_size = output_size\n",
    "        self.activate = activate\n",
    "        self.w = np.random.uniform(0, 1, (input_size, output_size))\n",
    "        self.b = np.random.uniform(0, 1, (1, output_size))\n",
    "        self.a = []\n",
    "        self.z = []\n",
    "\n",
    "    def foward(self, x):\n",
    "        self.a = np.dot(x,self.w) + self.b\n",
    "        if(self.activate == \"sigmoid\"):\n",
    "            self.z = sigmoid(self.a)\n",
    "        elif(self.activate == \"ReLU\"):\n",
    "            self.z = ReLU(self.a)\n",
    "        else:\n",
    "            self.z = self.a\n",
    "    \n",
    "    def back(self, x): \n",
    "        print(\"back\")\n",
    "\n",
    "class MLP:\n",
    "    def __init__(self, hidden_size = 10, learning_rate = 0.9, activate = \"none\"):\n",
    "        self.learning_rate = learning_rate\n",
    "        self.layer1 = layer(2, hidden_size, activate)\n",
    "        self.layer2 = layer(hidden_size, 1, activate)\n",
    "\n",
    "    def train(self, x):\n",
    "        self.layer1.foward(x)\n",
    "        self.layer2.foward(self.layer1.z)\n",
    "\n",
    "    def cost(self, y_hat):\n",
    "        return MSE(self.layer2.z, y_hat)"
   ]
  },
  {
   "cell_type": "code",
   "execution_count": 30,
   "id": "14d6e85a",
   "metadata": {},
   "outputs": [
    {
     "name": "stdout",
     "output_type": "stream",
     "text": [
      "0.45271342419671307\n"
     ]
    }
   ],
   "source": [
    "x1, y1 = generate_linear()\n",
    "x2, y2 = generate_XOR_easy()\n",
    "\n",
    "#show_result(x1, y1, y1)\n",
    "#show_result(x2, y2, y2)\n",
    "\n",
    "model = MLP(10,0.9,\"sigmoid\")\n",
    "model.train(x1)\n",
    "print(model.cost(y1))"
   ]
  }
 ],
 "metadata": {
  "kernelspec": {
   "display_name": "Python 3 (ipykernel)",
   "language": "python",
   "name": "python3"
  },
  "language_info": {
   "codemirror_mode": {
    "name": "ipython",
    "version": 3
   },
   "file_extension": ".py",
   "mimetype": "text/x-python",
   "name": "python",
   "nbconvert_exporter": "python",
   "pygments_lexer": "ipython3",
   "version": "3.9.7"
  }
 },
 "nbformat": 4,
 "nbformat_minor": 5
}
