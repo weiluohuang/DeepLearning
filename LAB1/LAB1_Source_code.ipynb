{
 "cells": [
  {
   "cell_type": "code",
   "execution_count": 1,
   "id": "4bf25c67-0af9-41f1-867d-a46fc6f83f9b",
   "metadata": {
    "scrolled": false
   },
   "outputs": [
    {
     "data": {
      "image/png": "[encoded data removed]",
      "text/plain": [
       "<Figure size 432x288 with 2 Axes>"
      ]
     },
     "metadata": {
      "needs_background": "light"
     },
     "output_type": "display_data"
    },
    {
     "data": {
      "image/png": "[encoded data removed]",
      "text/plain": [
       "<Figure size 432x288 with 2 Axes>"
      ]
     },
     "metadata": {
      "needs_background": "light"
     },
     "output_type": "display_data"
    }
   ],
   "source": [
    "import numpy as np\n",
    "import matplotlib.pyplot as plt\n",
    "\n",
    "def generate_linear(n=100):\n",
    "    pts = np.random.uniform(0, 1, (n, 2))\n",
    "    inputs = []\n",
    "    labels = []\n",
    "    for pt in pts:\n",
    "        inputs.append([pt[0], pt[1]])\n",
    "        distance = (pt[0] - pt[1]) / 1.414\n",
    "        if pt[0] > pt[1]:\n",
    "            labels.append(0)\n",
    "        else:\n",
    "            labels.append(1)\n",
    "    return np.array(inputs), np.array(labels).reshape(n, 1)\n",
    "    \n",
    "def generate_XOR_easy():\n",
    "    inputs = []\n",
    "    labels = []\n",
    "    for i in range(11):\n",
    "        inputs.append([0.1 * i, 0.1 * i])\n",
    "        labels.append(0)\n",
    "        if 0.1 * i == 0.5:\n",
    "            continue\n",
    "        inputs.append([0.1 * i, 1 - 0.1 * i])\n",
    "        labels.append(1)\n",
    "    return np.array(inputs), np.array(labels).reshape(21, 1)\n",
    "\n",
    "def show_result(x, y, pred_y):\n",
    "    plt.subplot(1, 2, 1)\n",
    "    plt.title('Ground Truth', fontsize = 18)\n",
    "    for i in range(x.shape[0]):\n",
    "        if y[i] == 0:\n",
    "            plt.plot(x[i][0], x[i][1], 'ro')\n",
    "        else:\n",
    "            plt.plot(x[i][0], x[i][1], 'bo')\n",
    "            \n",
    "    plt.subplot(1, 2, 2)\n",
    "    plt.title('Predict Result', fontsize = 18)\n",
    "    for i in range(x.shape[0]):\n",
    "        if pred_y[i] == 0:\n",
    "            plt.plot(x[i][0], x[i][1], 'ro')\n",
    "        else:\n",
    "            plt.plot(x[i][0], x[i][1], 'bo')\n",
    "    plt.show()\n",
    "    \n",
    "def sigmoid(x):\n",
    "    return 1.0 / (1.0 + np.exp(-x))\n",
    "\n",
    "def derivative_sigmoid(x):\n",
    "    return np.multiply(x, 1.0 - x)\n",
    "\n",
    "def ReLU(x):\n",
    "    return np.where(x > 0, x, 0)\n",
    "\n",
    "def derivative_ReLU(x):\n",
    "    return np.where(x > 0, 1, 0)\n",
    "\n",
    "x1, y1 = generate_linear()\n",
    "x2, y2 = generate_XOR_easy()\n",
    "\n",
    "show_result(x1, y1, y1)\n",
    "show_result(x2, y2, y2)"
   ]
  },
  {
   "cell_type": "code",
   "execution_count": 2,
   "id": "5027e8bb-0800-44b2-b242-1769a58e21c3",
   "metadata": {},
   "outputs": [
    {
     "ename": "SyntaxError",
     "evalue": "invalid syntax (Temp/ipykernel_26124/542358924.py, line 4)",
     "output_type": "error",
     "traceback": [
      "\u001b[1;36m  File \u001b[1;32m\"C:\\Users\\hwang\\AppData\\Local\\Temp/ipykernel_26124/542358924.py\"\u001b[1;36m, line \u001b[1;32m4\u001b[0m\n\u001b[1;33m    def feedfoward:\u001b[0m\n\u001b[1;37m                  ^\u001b[0m\n\u001b[1;31mSyntaxError\u001b[0m\u001b[1;31m:\u001b[0m invalid syntax\n"
     ]
    }
   ],
   "source": [
    "class layer():\n",
    "    def __init__(self,input_size,output_size,activation = 'none'):\n",
    "        w = np.random.uniform(0, 1, (output_size, input_size))\n",
    "    def foward():\n",
    "     \n",
    "    def back(): \n",
    "\n",
    "class MLP():\n",
    "    "
   ]
  }
 ],
 "metadata": {
  "kernelspec": {
   "display_name": "Python 3 (ipykernel)",
   "language": "python",
   "name": "python3"
  },
  "language_info": {
   "codemirror_mode": {
    "name": "ipython",
    "version": 3
   },
   "file_extension": ".py",
   "mimetype": "text/x-python",
   "name": "python",
   "nbconvert_exporter": "python",
   "pygments_lexer": "ipython3",
   "version": "3.9.7"
  }
 },
 "nbformat": 4,
 "nbformat_minor": 5
}
